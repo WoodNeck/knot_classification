{
 "cells": [
  {
   "cell_type": "code",
   "execution_count": 1,
   "metadata": {},
   "outputs": [],
   "source": [
    "import os\n",
    "import re\n",
    "from preprocess import preprocess\n",
    "from feature_extraction import extract_feature\n",
    "from training import train\n",
    "\n",
    "\n",
    "img_dir = \"augmentation\"\n",
    "data_file = \"names.txt\"\n",
    "\n",
    "with open(data_file, \"r\") as data:\n",
    "    datas = data.readlines()\n",
    "\n",
    "orig_labels = [data.rstrip('\\n').split()[1] for data in datas]\n",
    "\n",
    "img_paths = []\n",
    "img_labels = []\n",
    "\n",
    "files = os.listdir(img_dir)\n",
    "for file in files:\n",
    "    image_num = int(re.search(\"(knot)(\\d+)(_0_)(\\d+)(.ppm)\", file).group(2)) - 1\n",
    "    path = os.path.join(img_dir, file)\n",
    "    img_paths.append(path)\n",
    "    img_labels.append(orig_labels[image_num])"
   ]
  },
  {
   "cell_type": "code",
   "execution_count": null,
   "metadata": {},
   "outputs": [
    {
     "name": "stdout",
     "output_type": "stream",
     "text": [
      "Extracting Feature...\n",
      "[SIFT]100/9191\n",
      "[SIFT]200/9191\n",
      "[SIFT]300/9191\n",
      "[SIFT]400/9191\n",
      "[SIFT]500/9191\n",
      "[SIFT]600/9191\n",
      "[SIFT]700/9191\n",
      "[SIFT]800/9191\n",
      "[SIFT]900/9191\n",
      "[SIFT]1000/9191\n",
      "[SIFT]1100/9191\n",
      "[SIFT]1200/9191\n",
      "[SIFT]1300/9191\n",
      "[SIFT]1400/9191\n",
      "[SIFT]1500/9191\n",
      "[SIFT]1600/9191\n",
      "[SIFT]1700/9191\n",
      "[SIFT]1800/9191\n",
      "[SIFT]1900/9191\n",
      "[SIFT]2000/9191\n",
      "[SIFT]2100/9191\n",
      "[SIFT]2200/9191\n",
      "[SIFT]2300/9191\n",
      "[SIFT]2400/9191\n",
      "[SIFT]2500/9191\n",
      "[SIFT]2600/9191\n",
      "[SIFT]2700/9191\n",
      "[SIFT]2800/9191\n",
      "[SIFT]2900/9191\n",
      "[SIFT]3000/9191\n",
      "[SIFT]3100/9191\n",
      "[SIFT]3200/9191\n",
      "[SIFT]3300/9191\n",
      "[SIFT]3400/9191\n",
      "[SIFT]3500/9191\n",
      "[SIFT]3600/9191\n",
      "[SIFT]3700/9191\n",
      "[SIFT]3800/9191\n",
      "[SIFT]3900/9191\n",
      "[SIFT]4000/9191\n",
      "[SIFT]4100/9191\n",
      "[SIFT]4200/9191\n",
      "[SIFT]4300/9191\n",
      "[SIFT]4400/9191\n",
      "[SIFT]4500/9191\n",
      "[SIFT]4600/9191\n",
      "[SIFT]4700/9191\n",
      "[SIFT]4800/9191\n",
      "[SIFT]4900/9191\n",
      "[SIFT]5000/9191\n"
     ]
    }
   ],
   "source": [
    "print(\"Extracting Feature...\")\n",
    "extract_feature(img_paths, img_labels)\n",
    "print(\"Feature Extracting Done...\")"
   ]
  },
  {
   "cell_type": "code",
   "execution_count": 3,
   "metadata": {
    "scrolled": true
   },
   "outputs": [
    {
     "name": "stdout",
     "output_type": "stream",
     "text": [
      "Starting Training...\n",
      "\n",
      "ITERATION 1, K: 1\n",
      "[TRAIN SET RESULT]\n",
      "\t7352/7352(100.0000%)\n",
      "[TEST SET RESULT]\n",
      "\t1588/1839(86.3513%)\n",
      "\n",
      "ITERATION 2, K: 3\n",
      "[TRAIN SET RESULT]\n",
      "\t6782/7352(92.2470%)\n",
      "[TEST SET RESULT]\n",
      "\t1565/1839(85.1006%)\n",
      "\n",
      "ITERATION 3, K: 5\n",
      "[TRAIN SET RESULT]\n",
      "\t6535/7352(88.8874%)\n",
      "[TEST SET RESULT]\n",
      "\t1527/1839(83.0343%)\n",
      "\n",
      "ITERATION 4, K: 7\n",
      "[TRAIN SET RESULT]\n",
      "\t6353/7352(86.4119%)\n",
      "[TEST SET RESULT]\n",
      "\t1508/1839(82.0011%)\n",
      "\n",
      "ITERATION 5, K: 9\n",
      "[TRAIN SET RESULT]\n",
      "\t6230/7352(84.7388%)\n",
      "[TEST SET RESULT]\n",
      "\t1483/1839(80.6417%)\n",
      "\n",
      "ITERATION 6, K: 11\n",
      "[TRAIN SET RESULT]\n",
      "\t6105/7352(83.0386%)\n",
      "[TEST SET RESULT]\n",
      "\t1466/1839(79.7172%)\n",
      "Training Done...\n"
     ]
    }
   ],
   "source": [
    "print(\"Starting Training...\")\n",
    "train(datas, \"data\")\n",
    "print(\"Training Done...\")"
   ]
  }
 ],
 "metadata": {
  "kernelspec": {
   "display_name": "Python 3",
   "language": "python",
   "name": "python3"
  },
  "language_info": {
   "codemirror_mode": {
    "name": "ipython",
    "version": 3
   },
   "file_extension": ".py",
   "mimetype": "text/x-python",
   "name": "python",
   "nbconvert_exporter": "python",
   "pygments_lexer": "ipython3",
   "version": "3.6.4"
  }
 },
 "nbformat": 4,
 "nbformat_minor": 2
}
